{
 "cells": [
  {
   "cell_type": "markdown",
   "id": "c1cb2012-4fc2-49d8-ba1c-80e02f6c3b54",
   "metadata": {},
   "source": [
    "### Advanced function\n",
    "- Duplicate to 3 lions\n",
    "- Give them seperate colors\n",
    "- Give each lion a gradient color effect (choose horizontal or vertical)\n",
    "- Give each lion a sine wave effect\n",
    "- Bonus, copy more of these 3 lions and put them in a circle, each rotated a bit"
   ]
  },
  {
   "cell_type": "markdown",
   "id": "696ddc8d-aedd-48c0-aec1-56bf25228fd3",
   "metadata": {},
   "source": [
    "#### Create 3 lions\n"
   ]
  },
  {
   "cell_type": "code",
   "execution_count": null,
   "id": "10a1869b-93cb-4867-9740-fa2c9535c209",
   "metadata": {},
   "outputs": [],
   "source": [
    "image = Image.open(\"Belgium_lion.png\").convert('RGB') \n",
    "image = image.resize((250,250))\n",
    "image_array = np.array(image)\n",
    "\n",
    "# Create separate lions with different colors\n",
    "red_lion = image_array.copy()\n",
    "blue_lion = image_array.copy()\n",
    "green_lion = image_array.copy()\n",
    "\n",
    "red_lion[:, :, 1] = 0  # remove green channel\n",
    "red_lion[:, :, 2] = 0  # remove blue channel\n",
    "\n",
    "blue_lion[:, :, 0] = 0  # remove red channel\n",
    "blue_lion[:, :, 1] = 0  # remove green channel\n",
    "\n",
    "green_lion[:, :, 0] = 0  # remove red channel\n",
    "green_lion[:, :, 2] = 0  # remove blue channel"
   ]
  },
  {
   "cell_type": "markdown",
   "id": "fa9ef8ed-579a-46a8-9abc-7bc2268f853b",
   "metadata": {},
   "source": [
    "#### Gradient functie"
   ]
  },
  {
   "cell_type": "code",
   "execution_count": null,
   "id": "4508913f-501c-4c69-8b46-dfbbd6d6d148",
   "metadata": {},
   "outputs": [],
   "source": [
    "def gradient(image, plane='horizontal'):\n",
    "    #For each lion, start with base color left and at more blue going to the right => horizontal gradient\n",
    "    #For each lion, start with base color top and at more green going down => vertical gradient\n",
    "\n",
    "    #gradient = ... \n",
    "\n",
    "    # Via for loop\n",
    "    if plane == 'horizontal':\n",
    "        for i in range(height):\n",
    "            for j in range(width):\n",
    "                if image == red_lion:\n",
    "                    gradient[i, j, 0] = 255 #rood blijft constant\n",
    "                    gradient[i, j, 2] = np.round((j/width) * 255)\n",
    "\n",
    "                elif image == blue_lion:\n",
    "                    gradient[i, j, 2] = np.round((j/width) * 255)\n",
    "\n",
    "                elif image == green_lion:\n",
    "                    gradient[i, j, 1] = 255 #groen blijft constant\n",
    "                    gradient[i, j, 2] = np.round((j/width) * 255)\n",
    "\n",
    "    if plane == 'vertical':\n",
    "        # code verticaal groene verschuiving\n",
    "\n",
    "    # Via gevectoriseerde methode\n",
    "    np.linspace(0, 255, width) # geeft matrix met getallen 0 tot 255 verdeeld over breedte\n",
    "    np.tile(height, 1) #zal linspace matrix over alle rijen herhalen\n",
    "    np.round() # linspace nog afronden\n",
    "\n",
    "    \n",
    "    return gradient\n",
    "\n",
    "\n",
    "# image_array[i, j] = [255, 45, 99]\n"
   ]
  },
  {
   "cell_type": "markdown",
   "id": "88ddb106-dc2e-4f91-967d-51fa67a6ab1c",
   "metadata": {},
   "source": [
    "### Sine wave functie"
   ]
  },
  {
   "cell_type": "code",
   "execution_count": null,
   "id": "f7d991fd-1ea5-41e7-bf94-4fa5a4e387e6",
   "metadata": {},
   "outputs": [],
   "source": [
    "def sine_distortion(image):\n",
    "    image[]\n",
    "    \n",
    "    return"
   ]
  },
  {
   "cell_type": "markdown",
   "id": "7f192b7d-d215-4194-8117-befb695c30f1",
   "metadata": {},
   "source": [
    "#### Lions in circle"
   ]
  },
  {
   "cell_type": "code",
   "execution_count": null,
   "id": "3be46c4b-a911-4bb3-be20-ae58f52937e8",
   "metadata": {},
   "outputs": [],
   "source": [
    "def lions_in_circle():\n",
    "    return"
   ]
  },
  {
   "cell_type": "markdown",
   "id": "784fbdb4-b4dc-4f44-8c4e-e03cb2406d9b",
   "metadata": {},
   "source": [
    "### Code from Ifeyinwa"
   ]
  },
  {
   "cell_type": "code",
   "execution_count": null,
   "id": "0c798617-74f3-469d-865b-57c0a1d3cea1",
   "metadata": {},
   "outputs": [],
   "source": [
    "image = Image.open(\"Belgium_lion.png\").convert('RGB') \n",
    "image = image.resize((250,250))\n",
    "image_array = np.array(image)\n",
    "\n",
    "#creating flag with 3 stripes\n",
    "flag_height =600\n",
    "flag_width =900\n",
    "stripe_width = flag_width // 3\n",
    "\n",
    "#creating base flag array\n",
    "flag = np.zeros((flag_height,flag_width,3),dtype= np.uint8) #3 colors , each color value is from 0 to 255\n",
    "\n",
    "#first black stripe\n",
    "flag[:,0:stripe_width] = [0,0,0]   #no red,no green,no blue\n",
    "\n",
    "#middle_strip, yellow stripe\n",
    "flag[:, stripe_width:2*stripe_width] = [255,255,0] #pay attention to the slices\n",
    "\n",
    "#last red stripe\n",
    "flag[:, 2*stripe_width:] = [255,0,0]\n",
    "\n",
    "# to get the lion location on the flag\n",
    "lion_y = (flag_height - image_array.shape[0]) // 2 #to get how far from up\n",
    "lion_x = stripe_width + (stripe_width -image_array.shape[1]) // 2\n",
    "\n",
    "lion_shape = (image_array == [0,0,0]).all(axis =2 ) # checks if RGB is black,checks if the conditions are true and return True if all pixel are black\n",
    "\n",
    "flag[lion_y:lion_y + image_array.shape[0],lion_x:lion_x + image_array.shape[1]][lion_shape] = [0,0,0]\n",
    "\n",
    "plt.figure(figsize=(10,6))\n",
    "plt.imshow(flag)\n",
    "plt.axis('off')\n",
    "plt.title('Belgian Flag with Lion symbol')\n"
   ]
  }
 ],
 "metadata": {
  "kernelspec": {
   "display_name": "Python 3 (ipykernel)",
   "language": "python",
   "name": "python3"
  },
  "language_info": {
   "codemirror_mode": {
    "name": "ipython",
    "version": 3
   },
   "file_extension": ".py",
   "mimetype": "text/x-python",
   "name": "python",
   "nbconvert_exporter": "python",
   "pygments_lexer": "ipython3",
   "version": "3.12.8"
  }
 },
 "nbformat": 4,
 "nbformat_minor": 5
}
